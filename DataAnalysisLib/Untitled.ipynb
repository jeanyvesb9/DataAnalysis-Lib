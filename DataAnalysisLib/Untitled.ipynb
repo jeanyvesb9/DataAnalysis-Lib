{
 "cells": [
  {
   "cell_type": "code",
   "execution_count": 105,
   "metadata": {},
   "outputs": [],
   "source": [
    "import sympy as _sp\n",
    "import numpy as np\n",
    "import dataset as _ds"
   ]
  },
  {
   "cell_type": "code",
   "execution_count": 178,
   "metadata": {},
   "outputs": [],
   "source": [
    "\n",
    "class ErrorProp:\n",
    "    \n",
    "    def __init__(self, func, data = [] , eps = 0.1):\n",
    "\n",
    "        if isinstance(data, _ds.Dataset):\n",
    "            self.__data = data\n",
    "        elif isinstance(data, list):\n",
    "            self.__data = []\n",
    "            for ds in data:\n",
    "                if isinstance(ds, _ds.Dataset) == False:\n",
    "                   raise Warning\n",
    "                self.__data.append(ds)\n",
    "\n",
    "        if isinstance(func, str): # getting the expression in the right form\n",
    "            self.__func = _sp.sympify(func)\n",
    "        elif isinstance(func, _sp.expr.Expr):\n",
    "            self.__func = func\n",
    "        #self.__func = None\n",
    "         \n",
    "        self.__eps = eps\n",
    "        self.__tree = []\n",
    "        self.__parse(self.__func)\n",
    "        self.__variables = list(dict.fromkeys(self.__tree))[::-1] # removing repetead symbols\n",
    "        \n",
    "        self.__errorSymbs = [_sp.Symbol('d{}'.format(var)) for var in self.__variables]\n",
    "        self.__propExpr = self.__buildProp(self.__variables)\n",
    "        \n",
    "    \n",
    "    def __parse(self, expr):  # parser for getting all the variables of the expression, it searches like a tree struct        \n",
    "        for exp in expr.args:\n",
    "            if isinstance(exp, _sp.symbol.Symbol):\n",
    "                self.__tree.append(exp)\n",
    "            self.__parse(exp)\n",
    "    \n",
    "    def __buildProp(self, variables):\n",
    "        diffs = [_sp.diff(self.__func, symb) for symb in self.__variables]\n",
    "        return [value*delta for value, delta in zip(diffs, self.__errorSymbs)]\n",
    "        \n",
    "            \n",
    "    @property\n",
    "    def data(self):\n",
    "        return self.__data\n",
    "\n",
    "    @property\n",
    "    def variables(self):\n",
    "        return self.__variables\n",
    "\n",
    "    @property\n",
    "    def func(self):\n",
    "        return self.__func\n",
    "\n",
    "    @property\n",
    "    def propExpr(self):\n",
    "        return self.__propExpr\n",
    "\n",
    "\n",
    "    \n",
    "    \n",
    "\n"
   ]
  },
  {
   "cell_type": "code",
   "execution_count": 182,
   "metadata": {},
   "outputs": [
    {
     "name": "stdout",
     "output_type": "stream",
     "text": [
      "[x, z, y]\n",
      "[2*dx*x/y, dz, dy*(-x**2/y**2 + 1)]\n",
      "[1 2 3]\n",
      "[0.1, 0.1, 0.1]\n"
     ]
    }
   ],
   "source": [
    "x = sp.Symbol('x')\n",
    "y = sp.Symbol('y')\n",
    "z = sp.Symbol('z')\n",
    "\n",
    "data = _ds.Dataset([1,2,3], [0.1, 0.1, 0.1])\n",
    "\n",
    "f = ErrorProp(x**2/y+y+z, data)\n",
    "print(f.variables)\n",
    "print(f.propExpr)\n",
    "print(f.data.v)\n",
    "print(f.data.error)\n"
   ]
  },
  {
   "cell_type": "code",
   "execution_count": null,
   "metadata": {},
   "outputs": [],
   "source": []
  },
  {
   "cell_type": "code",
   "execution_count": null,
   "metadata": {},
   "outputs": [],
   "source": []
  }
 ],
 "metadata": {
  "kernelspec": {
   "display_name": "Python 3",
   "language": "python",
   "name": "python3"
  },
  "language_info": {
   "codemirror_mode": {
    "name": "ipython",
    "version": 3
   },
   "file_extension": ".py",
   "mimetype": "text/x-python",
   "name": "python",
   "nbconvert_exporter": "python",
   "pygments_lexer": "ipython3",
   "version": "3.6.4"
  }
 },
 "nbformat": 4,
 "nbformat_minor": 2
}
